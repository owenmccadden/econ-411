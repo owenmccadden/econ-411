{
 "cells": [
  {
   "cell_type": "code",
   "execution_count": 1,
   "metadata": {},
   "outputs": [],
   "source": [
    "import numpy as np\n",
    "import random\n",
    "import itertools\n",
    "from operator import attrgetter\n",
    "from collections import defaultdict\n",
    "import matplotlib.pyplot as plt"
   ]
  },
  {
   "cell_type": "code",
   "execution_count": 10,
   "metadata": {},
   "outputs": [],
   "source": [
    "suits = {'Hearts', 'Clubs', 'Spades', 'Diamonds'}\n",
    "\n",
    "card_name_map = {\n",
    "            'Two': 2,\n",
    "            'Three': 3,\n",
    "            'Four': 4,\n",
    "            'Five': 5,\n",
    "            'Six': 6,\n",
    "            'Seven': 7,\n",
    "            'Eight': 8,\n",
    "            'Nine': 9,\n",
    "            'Ten': 10,\n",
    "            'Jack': 11, \n",
    "            'Queen': 12, \n",
    "            'King': 13, \n",
    "            'Ace': 14\n",
    "            }\n",
    "\n",
    "class Card:\n",
    "    def __init__(self, name, suit):\n",
    "        self.suit = suit\n",
    "        self.name = name\n",
    "        if self.name == 'Six':\n",
    "            self.name_plural = 'Sixes'\n",
    "        else:\n",
    "            self.name_plural = self.name + 's'\n",
    "        self.value = card_name_map[self.name]\n",
    "    \n",
    "    def __str__(self):\n",
    "        return '{} of {}'.format(self.name, self.suit)\n",
    "    \n",
    "    def __eq__(self, other):\n",
    "        return self.value == other.value"
   ]
  },
  {
   "cell_type": "code",
   "execution_count": 30,
   "metadata": {},
   "outputs": [],
   "source": [
    "class Deck:\n",
    "    def __init__(self):\n",
    "        self.deck = []\n",
    "        self.card_location_map = {}\n",
    "        for suit in suits:\n",
    "            for card_name in card_name_map:\n",
    "                self.deck.append(Card(card_name, suit))\n",
    "        self.shuffle()\n",
    "                \n",
    "    def __str__(self):\n",
    "        return ''.join(['{} \\n'.format(card) for card in self.deck])\n",
    "    \n",
    "    def assign_locations(self):\n",
    "        self.card_location_map = {}\n",
    "        for i, card in enumerate(self.deck):\n",
    "            self.card_location_map[str(card)] = i\n",
    "        \n",
    "    \n",
    "    def shuffle(self):\n",
    "        random.shuffle(self.deck)\n",
    "        self.assign_locations()\n",
    "    \n",
    "    def remove(self, card):\n",
    "        card = self.deck.pop(self.card_location_map[str(card)])\n",
    "        self.assign_locations()\n",
    "        return card\n",
    "        \n",
    "    \n",
    "    def draw(self):\n",
    "        card = self.deck.pop(0)\n",
    "        self.assign_locations()\n",
    "        return card\n",
    "    \n",
    "    def __str__(self):\n",
    "        return ''.join(['{} \\n'.format(card) for card in self.deck])"
   ]
  },
  {
   "cell_type": "code",
   "execution_count": null,
   "metadata": {},
   "outputs": [],
   "source": []
  },
  {
   "cell_type": "code",
   "execution_count": 34,
   "metadata": {},
   "outputs": [],
   "source": [
    "class Hand:\n",
    "    def __init__(self, cards):\n",
    "        self.cards = cards"
   ]
  },
  {
   "cell_type": "code",
   "execution_count": 49,
   "metadata": {},
   "outputs": [],
   "source": [
    "class Player:\n",
    "    def __init__(self, name):\n",
    "        self.name = name    \n",
    "        self.cards = []\n",
    "        self.hand = None\n",
    "        self.possible_hands = []\n",
    "        self.best_hand = None\n",
    "        \n",
    "    def __str__(self):\n",
    "        return '{}{}'.format('Player: {}\\n'.format(self.name), ''.join(['{} \\n'.format(card) for card in self.cards]))\n",
    "                                                                                               "
   ]
  },
  {
   "cell_type": "code",
   "execution_count": 50,
   "metadata": {},
   "outputs": [],
   "source": [
    "class Table:\n",
    "    def __init__(self, deck):\n",
    "        self.deck = deck\n",
    "        self.board_cards = []\n",
    "        self.burned_cards = []"
   ]
  },
  {
   "cell_type": "code",
   "execution_count": 64,
   "metadata": {},
   "outputs": [],
   "source": [
    "class Game:\n",
    "    def __init__(self, players):\n",
    "        self.players = [Player('{}'.format(i)) for i in range(players)]\n",
    "        self.deck = Deck()\n",
    "        self.table = Table(self.deck)\n",
    "    \n",
    "    def deal(self):\n",
    "        for i in range(2):\n",
    "            for player in self.players:\n",
    "                player.cards.append(self.deck.draw())\n",
    "    \n",
    "    def burn(self):\n",
    "        self.table.burned_cards.append(self.deck.draw())\n",
    "        \n",
    "    def draw(self):\n",
    "        self.table.board_cards.append(self.deck.draw())\n",
    "                \n",
    "    def flop(self):\n",
    "        self.burn()\n",
    "        for i in range(3):\n",
    "            self.draw()\n",
    "    \n",
    "    def turn(self):\n",
    "        self.burn()\n",
    "        self.draw()\n",
    "    \n",
    "    def river(self):\n",
    "        self.burn()\n",
    "        self.draw()\n",
    "        \n",
    "    def get_possible_hands(self, player):\n",
    "        cards = player.cards + self.table.board_cards\n",
    "        hands = []\n",
    "        for comb in itertools.combinations(cards, 5):\n",
    "            hands.append(list(comb))\n",
    "        player.possible_hands = hands\n",
    "    \n",
    "    def __str__(self):\n",
    "        return ''.join(['{}\\n'.format(player) for player in self.players])\n",
    "    "
   ]
  },
  {
   "cell_type": "code",
   "execution_count": 65,
   "metadata": {},
   "outputs": [
    {
     "name": "stdout",
     "output_type": "stream",
     "text": [
      "Player: 0\n",
      "Eight of Clubs \n",
      "Four of Diamonds \n",
      "\n",
      "Player: 1\n",
      "Four of Hearts \n",
      "Ace of Hearts \n",
      "\n",
      "Player: 2\n",
      "King of Hearts \n",
      "Five of Spades \n",
      "\n",
      "Player: 3\n",
      "King of Spades \n",
      "Two of Spades \n",
      "\n",
      "\n",
      "['Queen of Diamonds', 'Three of Hearts', 'Queen of Clubs', 'Ace of Clubs', 'Ten of Clubs']\n"
     ]
    }
   ],
   "source": [
    "g = Game(4)\n",
    "g.deal()\n",
    "g.flop()\n",
    "g.turn()\n",
    "g.river()\n",
    "\n",
    "print(g)\n",
    "print([str(card) for card in g.table.board_cards])"
   ]
  },
  {
   "cell_type": "code",
   "execution_count": 66,
   "metadata": {},
   "outputs": [],
   "source": [
    "for player in g.players:\n",
    "    g.get_possible_hands(player)"
   ]
  },
  {
   "cell_type": "code",
   "execution_count": 68,
   "metadata": {},
   "outputs": [
    {
     "name": "stdout",
     "output_type": "stream",
     "text": [
      "['[<__main__.Card object at 0x7fc8f19d00d0>, <__main__.Card object at 0x7fc8f19eea90>, <__main__.Card object at 0x7fc8f1ac2190>, <__main__.Card object at 0x7fc8f1abd0d0>, <__main__.Card object at 0x7fc8f19d0cd0>]', '[<__main__.Card object at 0x7fc8f19d00d0>, <__main__.Card object at 0x7fc8f19eea90>, <__main__.Card object at 0x7fc8f1ac2190>, <__main__.Card object at 0x7fc8f1abd0d0>, <__main__.Card object at 0x7fc8f19d0b50>]', '[<__main__.Card object at 0x7fc8f19d00d0>, <__main__.Card object at 0x7fc8f19eea90>, <__main__.Card object at 0x7fc8f1ac2190>, <__main__.Card object at 0x7fc8f1abd0d0>, <__main__.Card object at 0x7fc8f19d0990>]', '[<__main__.Card object at 0x7fc8f19d00d0>, <__main__.Card object at 0x7fc8f19eea90>, <__main__.Card object at 0x7fc8f1ac2190>, <__main__.Card object at 0x7fc8f19d0cd0>, <__main__.Card object at 0x7fc8f19d0b50>]', '[<__main__.Card object at 0x7fc8f19d00d0>, <__main__.Card object at 0x7fc8f19eea90>, <__main__.Card object at 0x7fc8f1ac2190>, <__main__.Card object at 0x7fc8f19d0cd0>, <__main__.Card object at 0x7fc8f19d0990>]', '[<__main__.Card object at 0x7fc8f19d00d0>, <__main__.Card object at 0x7fc8f19eea90>, <__main__.Card object at 0x7fc8f1ac2190>, <__main__.Card object at 0x7fc8f19d0b50>, <__main__.Card object at 0x7fc8f19d0990>]', '[<__main__.Card object at 0x7fc8f19d00d0>, <__main__.Card object at 0x7fc8f19eea90>, <__main__.Card object at 0x7fc8f1abd0d0>, <__main__.Card object at 0x7fc8f19d0cd0>, <__main__.Card object at 0x7fc8f19d0b50>]', '[<__main__.Card object at 0x7fc8f19d00d0>, <__main__.Card object at 0x7fc8f19eea90>, <__main__.Card object at 0x7fc8f1abd0d0>, <__main__.Card object at 0x7fc8f19d0cd0>, <__main__.Card object at 0x7fc8f19d0990>]', '[<__main__.Card object at 0x7fc8f19d00d0>, <__main__.Card object at 0x7fc8f19eea90>, <__main__.Card object at 0x7fc8f1abd0d0>, <__main__.Card object at 0x7fc8f19d0b50>, <__main__.Card object at 0x7fc8f19d0990>]', '[<__main__.Card object at 0x7fc8f19d00d0>, <__main__.Card object at 0x7fc8f19eea90>, <__main__.Card object at 0x7fc8f19d0cd0>, <__main__.Card object at 0x7fc8f19d0b50>, <__main__.Card object at 0x7fc8f19d0990>]', '[<__main__.Card object at 0x7fc8f19d00d0>, <__main__.Card object at 0x7fc8f1ac2190>, <__main__.Card object at 0x7fc8f1abd0d0>, <__main__.Card object at 0x7fc8f19d0cd0>, <__main__.Card object at 0x7fc8f19d0b50>]', '[<__main__.Card object at 0x7fc8f19d00d0>, <__main__.Card object at 0x7fc8f1ac2190>, <__main__.Card object at 0x7fc8f1abd0d0>, <__main__.Card object at 0x7fc8f19d0cd0>, <__main__.Card object at 0x7fc8f19d0990>]', '[<__main__.Card object at 0x7fc8f19d00d0>, <__main__.Card object at 0x7fc8f1ac2190>, <__main__.Card object at 0x7fc8f1abd0d0>, <__main__.Card object at 0x7fc8f19d0b50>, <__main__.Card object at 0x7fc8f19d0990>]', '[<__main__.Card object at 0x7fc8f19d00d0>, <__main__.Card object at 0x7fc8f1ac2190>, <__main__.Card object at 0x7fc8f19d0cd0>, <__main__.Card object at 0x7fc8f19d0b50>, <__main__.Card object at 0x7fc8f19d0990>]', '[<__main__.Card object at 0x7fc8f19d00d0>, <__main__.Card object at 0x7fc8f1abd0d0>, <__main__.Card object at 0x7fc8f19d0cd0>, <__main__.Card object at 0x7fc8f19d0b50>, <__main__.Card object at 0x7fc8f19d0990>]', '[<__main__.Card object at 0x7fc8f19eea90>, <__main__.Card object at 0x7fc8f1ac2190>, <__main__.Card object at 0x7fc8f1abd0d0>, <__main__.Card object at 0x7fc8f19d0cd0>, <__main__.Card object at 0x7fc8f19d0b50>]', '[<__main__.Card object at 0x7fc8f19eea90>, <__main__.Card object at 0x7fc8f1ac2190>, <__main__.Card object at 0x7fc8f1abd0d0>, <__main__.Card object at 0x7fc8f19d0cd0>, <__main__.Card object at 0x7fc8f19d0990>]', '[<__main__.Card object at 0x7fc8f19eea90>, <__main__.Card object at 0x7fc8f1ac2190>, <__main__.Card object at 0x7fc8f1abd0d0>, <__main__.Card object at 0x7fc8f19d0b50>, <__main__.Card object at 0x7fc8f19d0990>]', '[<__main__.Card object at 0x7fc8f19eea90>, <__main__.Card object at 0x7fc8f1ac2190>, <__main__.Card object at 0x7fc8f19d0cd0>, <__main__.Card object at 0x7fc8f19d0b50>, <__main__.Card object at 0x7fc8f19d0990>]', '[<__main__.Card object at 0x7fc8f19eea90>, <__main__.Card object at 0x7fc8f1abd0d0>, <__main__.Card object at 0x7fc8f19d0cd0>, <__main__.Card object at 0x7fc8f19d0b50>, <__main__.Card object at 0x7fc8f19d0990>]', '[<__main__.Card object at 0x7fc8f1ac2190>, <__main__.Card object at 0x7fc8f1abd0d0>, <__main__.Card object at 0x7fc8f19d0cd0>, <__main__.Card object at 0x7fc8f19d0b50>, <__main__.Card object at 0x7fc8f19d0990>]']\n",
      "['[<__main__.Card object at 0x7fc8f1abd310>, <__main__.Card object at 0x7fc8f19d0e90>, <__main__.Card object at 0x7fc8f1ac2190>, <__main__.Card object at 0x7fc8f1abd0d0>, <__main__.Card object at 0x7fc8f19d0cd0>]', '[<__main__.Card object at 0x7fc8f1abd310>, <__main__.Card object at 0x7fc8f19d0e90>, <__main__.Card object at 0x7fc8f1ac2190>, <__main__.Card object at 0x7fc8f1abd0d0>, <__main__.Card object at 0x7fc8f19d0b50>]', '[<__main__.Card object at 0x7fc8f1abd310>, <__main__.Card object at 0x7fc8f19d0e90>, <__main__.Card object at 0x7fc8f1ac2190>, <__main__.Card object at 0x7fc8f1abd0d0>, <__main__.Card object at 0x7fc8f19d0990>]', '[<__main__.Card object at 0x7fc8f1abd310>, <__main__.Card object at 0x7fc8f19d0e90>, <__main__.Card object at 0x7fc8f1ac2190>, <__main__.Card object at 0x7fc8f19d0cd0>, <__main__.Card object at 0x7fc8f19d0b50>]', '[<__main__.Card object at 0x7fc8f1abd310>, <__main__.Card object at 0x7fc8f19d0e90>, <__main__.Card object at 0x7fc8f1ac2190>, <__main__.Card object at 0x7fc8f19d0cd0>, <__main__.Card object at 0x7fc8f19d0990>]', '[<__main__.Card object at 0x7fc8f1abd310>, <__main__.Card object at 0x7fc8f19d0e90>, <__main__.Card object at 0x7fc8f1ac2190>, <__main__.Card object at 0x7fc8f19d0b50>, <__main__.Card object at 0x7fc8f19d0990>]', '[<__main__.Card object at 0x7fc8f1abd310>, <__main__.Card object at 0x7fc8f19d0e90>, <__main__.Card object at 0x7fc8f1abd0d0>, <__main__.Card object at 0x7fc8f19d0cd0>, <__main__.Card object at 0x7fc8f19d0b50>]', '[<__main__.Card object at 0x7fc8f1abd310>, <__main__.Card object at 0x7fc8f19d0e90>, <__main__.Card object at 0x7fc8f1abd0d0>, <__main__.Card object at 0x7fc8f19d0cd0>, <__main__.Card object at 0x7fc8f19d0990>]', '[<__main__.Card object at 0x7fc8f1abd310>, <__main__.Card object at 0x7fc8f19d0e90>, <__main__.Card object at 0x7fc8f1abd0d0>, <__main__.Card object at 0x7fc8f19d0b50>, <__main__.Card object at 0x7fc8f19d0990>]', '[<__main__.Card object at 0x7fc8f1abd310>, <__main__.Card object at 0x7fc8f19d0e90>, <__main__.Card object at 0x7fc8f19d0cd0>, <__main__.Card object at 0x7fc8f19d0b50>, <__main__.Card object at 0x7fc8f19d0990>]', '[<__main__.Card object at 0x7fc8f1abd310>, <__main__.Card object at 0x7fc8f1ac2190>, <__main__.Card object at 0x7fc8f1abd0d0>, <__main__.Card object at 0x7fc8f19d0cd0>, <__main__.Card object at 0x7fc8f19d0b50>]', '[<__main__.Card object at 0x7fc8f1abd310>, <__main__.Card object at 0x7fc8f1ac2190>, <__main__.Card object at 0x7fc8f1abd0d0>, <__main__.Card object at 0x7fc8f19d0cd0>, <__main__.Card object at 0x7fc8f19d0990>]', '[<__main__.Card object at 0x7fc8f1abd310>, <__main__.Card object at 0x7fc8f1ac2190>, <__main__.Card object at 0x7fc8f1abd0d0>, <__main__.Card object at 0x7fc8f19d0b50>, <__main__.Card object at 0x7fc8f19d0990>]', '[<__main__.Card object at 0x7fc8f1abd310>, <__main__.Card object at 0x7fc8f1ac2190>, <__main__.Card object at 0x7fc8f19d0cd0>, <__main__.Card object at 0x7fc8f19d0b50>, <__main__.Card object at 0x7fc8f19d0990>]', '[<__main__.Card object at 0x7fc8f1abd310>, <__main__.Card object at 0x7fc8f1abd0d0>, <__main__.Card object at 0x7fc8f19d0cd0>, <__main__.Card object at 0x7fc8f19d0b50>, <__main__.Card object at 0x7fc8f19d0990>]', '[<__main__.Card object at 0x7fc8f19d0e90>, <__main__.Card object at 0x7fc8f1ac2190>, <__main__.Card object at 0x7fc8f1abd0d0>, <__main__.Card object at 0x7fc8f19d0cd0>, <__main__.Card object at 0x7fc8f19d0b50>]', '[<__main__.Card object at 0x7fc8f19d0e90>, <__main__.Card object at 0x7fc8f1ac2190>, <__main__.Card object at 0x7fc8f1abd0d0>, <__main__.Card object at 0x7fc8f19d0cd0>, <__main__.Card object at 0x7fc8f19d0990>]', '[<__main__.Card object at 0x7fc8f19d0e90>, <__main__.Card object at 0x7fc8f1ac2190>, <__main__.Card object at 0x7fc8f1abd0d0>, <__main__.Card object at 0x7fc8f19d0b50>, <__main__.Card object at 0x7fc8f19d0990>]', '[<__main__.Card object at 0x7fc8f19d0e90>, <__main__.Card object at 0x7fc8f1ac2190>, <__main__.Card object at 0x7fc8f19d0cd0>, <__main__.Card object at 0x7fc8f19d0b50>, <__main__.Card object at 0x7fc8f19d0990>]', '[<__main__.Card object at 0x7fc8f19d0e90>, <__main__.Card object at 0x7fc8f1abd0d0>, <__main__.Card object at 0x7fc8f19d0cd0>, <__main__.Card object at 0x7fc8f19d0b50>, <__main__.Card object at 0x7fc8f19d0990>]', '[<__main__.Card object at 0x7fc8f1ac2190>, <__main__.Card object at 0x7fc8f1abd0d0>, <__main__.Card object at 0x7fc8f19d0cd0>, <__main__.Card object at 0x7fc8f19d0b50>, <__main__.Card object at 0x7fc8f19d0990>]']\n",
      "['[<__main__.Card object at 0x7fc8f19d09d0>, <__main__.Card object at 0x7fc8f19ee6d0>, <__main__.Card object at 0x7fc8f1ac2190>, <__main__.Card object at 0x7fc8f1abd0d0>, <__main__.Card object at 0x7fc8f19d0cd0>]', '[<__main__.Card object at 0x7fc8f19d09d0>, <__main__.Card object at 0x7fc8f19ee6d0>, <__main__.Card object at 0x7fc8f1ac2190>, <__main__.Card object at 0x7fc8f1abd0d0>, <__main__.Card object at 0x7fc8f19d0b50>]', '[<__main__.Card object at 0x7fc8f19d09d0>, <__main__.Card object at 0x7fc8f19ee6d0>, <__main__.Card object at 0x7fc8f1ac2190>, <__main__.Card object at 0x7fc8f1abd0d0>, <__main__.Card object at 0x7fc8f19d0990>]', '[<__main__.Card object at 0x7fc8f19d09d0>, <__main__.Card object at 0x7fc8f19ee6d0>, <__main__.Card object at 0x7fc8f1ac2190>, <__main__.Card object at 0x7fc8f19d0cd0>, <__main__.Card object at 0x7fc8f19d0b50>]', '[<__main__.Card object at 0x7fc8f19d09d0>, <__main__.Card object at 0x7fc8f19ee6d0>, <__main__.Card object at 0x7fc8f1ac2190>, <__main__.Card object at 0x7fc8f19d0cd0>, <__main__.Card object at 0x7fc8f19d0990>]', '[<__main__.Card object at 0x7fc8f19d09d0>, <__main__.Card object at 0x7fc8f19ee6d0>, <__main__.Card object at 0x7fc8f1ac2190>, <__main__.Card object at 0x7fc8f19d0b50>, <__main__.Card object at 0x7fc8f19d0990>]', '[<__main__.Card object at 0x7fc8f19d09d0>, <__main__.Card object at 0x7fc8f19ee6d0>, <__main__.Card object at 0x7fc8f1abd0d0>, <__main__.Card object at 0x7fc8f19d0cd0>, <__main__.Card object at 0x7fc8f19d0b50>]', '[<__main__.Card object at 0x7fc8f19d09d0>, <__main__.Card object at 0x7fc8f19ee6d0>, <__main__.Card object at 0x7fc8f1abd0d0>, <__main__.Card object at 0x7fc8f19d0cd0>, <__main__.Card object at 0x7fc8f19d0990>]', '[<__main__.Card object at 0x7fc8f19d09d0>, <__main__.Card object at 0x7fc8f19ee6d0>, <__main__.Card object at 0x7fc8f1abd0d0>, <__main__.Card object at 0x7fc8f19d0b50>, <__main__.Card object at 0x7fc8f19d0990>]', '[<__main__.Card object at 0x7fc8f19d09d0>, <__main__.Card object at 0x7fc8f19ee6d0>, <__main__.Card object at 0x7fc8f19d0cd0>, <__main__.Card object at 0x7fc8f19d0b50>, <__main__.Card object at 0x7fc8f19d0990>]', '[<__main__.Card object at 0x7fc8f19d09d0>, <__main__.Card object at 0x7fc8f1ac2190>, <__main__.Card object at 0x7fc8f1abd0d0>, <__main__.Card object at 0x7fc8f19d0cd0>, <__main__.Card object at 0x7fc8f19d0b50>]', '[<__main__.Card object at 0x7fc8f19d09d0>, <__main__.Card object at 0x7fc8f1ac2190>, <__main__.Card object at 0x7fc8f1abd0d0>, <__main__.Card object at 0x7fc8f19d0cd0>, <__main__.Card object at 0x7fc8f19d0990>]', '[<__main__.Card object at 0x7fc8f19d09d0>, <__main__.Card object at 0x7fc8f1ac2190>, <__main__.Card object at 0x7fc8f1abd0d0>, <__main__.Card object at 0x7fc8f19d0b50>, <__main__.Card object at 0x7fc8f19d0990>]', '[<__main__.Card object at 0x7fc8f19d09d0>, <__main__.Card object at 0x7fc8f1ac2190>, <__main__.Card object at 0x7fc8f19d0cd0>, <__main__.Card object at 0x7fc8f19d0b50>, <__main__.Card object at 0x7fc8f19d0990>]', '[<__main__.Card object at 0x7fc8f19d09d0>, <__main__.Card object at 0x7fc8f1abd0d0>, <__main__.Card object at 0x7fc8f19d0cd0>, <__main__.Card object at 0x7fc8f19d0b50>, <__main__.Card object at 0x7fc8f19d0990>]', '[<__main__.Card object at 0x7fc8f19ee6d0>, <__main__.Card object at 0x7fc8f1ac2190>, <__main__.Card object at 0x7fc8f1abd0d0>, <__main__.Card object at 0x7fc8f19d0cd0>, <__main__.Card object at 0x7fc8f19d0b50>]', '[<__main__.Card object at 0x7fc8f19ee6d0>, <__main__.Card object at 0x7fc8f1ac2190>, <__main__.Card object at 0x7fc8f1abd0d0>, <__main__.Card object at 0x7fc8f19d0cd0>, <__main__.Card object at 0x7fc8f19d0990>]', '[<__main__.Card object at 0x7fc8f19ee6d0>, <__main__.Card object at 0x7fc8f1ac2190>, <__main__.Card object at 0x7fc8f1abd0d0>, <__main__.Card object at 0x7fc8f19d0b50>, <__main__.Card object at 0x7fc8f19d0990>]', '[<__main__.Card object at 0x7fc8f19ee6d0>, <__main__.Card object at 0x7fc8f1ac2190>, <__main__.Card object at 0x7fc8f19d0cd0>, <__main__.Card object at 0x7fc8f19d0b50>, <__main__.Card object at 0x7fc8f19d0990>]', '[<__main__.Card object at 0x7fc8f19ee6d0>, <__main__.Card object at 0x7fc8f1abd0d0>, <__main__.Card object at 0x7fc8f19d0cd0>, <__main__.Card object at 0x7fc8f19d0b50>, <__main__.Card object at 0x7fc8f19d0990>]', '[<__main__.Card object at 0x7fc8f1ac2190>, <__main__.Card object at 0x7fc8f1abd0d0>, <__main__.Card object at 0x7fc8f19d0cd0>, <__main__.Card object at 0x7fc8f19d0b50>, <__main__.Card object at 0x7fc8f19d0990>]']\n",
      "['[<__main__.Card object at 0x7fc8f19ee810>, <__main__.Card object at 0x7fc8f1d17e90>, <__main__.Card object at 0x7fc8f1ac2190>, <__main__.Card object at 0x7fc8f1abd0d0>, <__main__.Card object at 0x7fc8f19d0cd0>]', '[<__main__.Card object at 0x7fc8f19ee810>, <__main__.Card object at 0x7fc8f1d17e90>, <__main__.Card object at 0x7fc8f1ac2190>, <__main__.Card object at 0x7fc8f1abd0d0>, <__main__.Card object at 0x7fc8f19d0b50>]', '[<__main__.Card object at 0x7fc8f19ee810>, <__main__.Card object at 0x7fc8f1d17e90>, <__main__.Card object at 0x7fc8f1ac2190>, <__main__.Card object at 0x7fc8f1abd0d0>, <__main__.Card object at 0x7fc8f19d0990>]', '[<__main__.Card object at 0x7fc8f19ee810>, <__main__.Card object at 0x7fc8f1d17e90>, <__main__.Card object at 0x7fc8f1ac2190>, <__main__.Card object at 0x7fc8f19d0cd0>, <__main__.Card object at 0x7fc8f19d0b50>]', '[<__main__.Card object at 0x7fc8f19ee810>, <__main__.Card object at 0x7fc8f1d17e90>, <__main__.Card object at 0x7fc8f1ac2190>, <__main__.Card object at 0x7fc8f19d0cd0>, <__main__.Card object at 0x7fc8f19d0990>]', '[<__main__.Card object at 0x7fc8f19ee810>, <__main__.Card object at 0x7fc8f1d17e90>, <__main__.Card object at 0x7fc8f1ac2190>, <__main__.Card object at 0x7fc8f19d0b50>, <__main__.Card object at 0x7fc8f19d0990>]', '[<__main__.Card object at 0x7fc8f19ee810>, <__main__.Card object at 0x7fc8f1d17e90>, <__main__.Card object at 0x7fc8f1abd0d0>, <__main__.Card object at 0x7fc8f19d0cd0>, <__main__.Card object at 0x7fc8f19d0b50>]', '[<__main__.Card object at 0x7fc8f19ee810>, <__main__.Card object at 0x7fc8f1d17e90>, <__main__.Card object at 0x7fc8f1abd0d0>, <__main__.Card object at 0x7fc8f19d0cd0>, <__main__.Card object at 0x7fc8f19d0990>]', '[<__main__.Card object at 0x7fc8f19ee810>, <__main__.Card object at 0x7fc8f1d17e90>, <__main__.Card object at 0x7fc8f1abd0d0>, <__main__.Card object at 0x7fc8f19d0b50>, <__main__.Card object at 0x7fc8f19d0990>]', '[<__main__.Card object at 0x7fc8f19ee810>, <__main__.Card object at 0x7fc8f1d17e90>, <__main__.Card object at 0x7fc8f19d0cd0>, <__main__.Card object at 0x7fc8f19d0b50>, <__main__.Card object at 0x7fc8f19d0990>]', '[<__main__.Card object at 0x7fc8f19ee810>, <__main__.Card object at 0x7fc8f1ac2190>, <__main__.Card object at 0x7fc8f1abd0d0>, <__main__.Card object at 0x7fc8f19d0cd0>, <__main__.Card object at 0x7fc8f19d0b50>]', '[<__main__.Card object at 0x7fc8f19ee810>, <__main__.Card object at 0x7fc8f1ac2190>, <__main__.Card object at 0x7fc8f1abd0d0>, <__main__.Card object at 0x7fc8f19d0cd0>, <__main__.Card object at 0x7fc8f19d0990>]', '[<__main__.Card object at 0x7fc8f19ee810>, <__main__.Card object at 0x7fc8f1ac2190>, <__main__.Card object at 0x7fc8f1abd0d0>, <__main__.Card object at 0x7fc8f19d0b50>, <__main__.Card object at 0x7fc8f19d0990>]', '[<__main__.Card object at 0x7fc8f19ee810>, <__main__.Card object at 0x7fc8f1ac2190>, <__main__.Card object at 0x7fc8f19d0cd0>, <__main__.Card object at 0x7fc8f19d0b50>, <__main__.Card object at 0x7fc8f19d0990>]', '[<__main__.Card object at 0x7fc8f19ee810>, <__main__.Card object at 0x7fc8f1abd0d0>, <__main__.Card object at 0x7fc8f19d0cd0>, <__main__.Card object at 0x7fc8f19d0b50>, <__main__.Card object at 0x7fc8f19d0990>]', '[<__main__.Card object at 0x7fc8f1d17e90>, <__main__.Card object at 0x7fc8f1ac2190>, <__main__.Card object at 0x7fc8f1abd0d0>, <__main__.Card object at 0x7fc8f19d0cd0>, <__main__.Card object at 0x7fc8f19d0b50>]', '[<__main__.Card object at 0x7fc8f1d17e90>, <__main__.Card object at 0x7fc8f1ac2190>, <__main__.Card object at 0x7fc8f1abd0d0>, <__main__.Card object at 0x7fc8f19d0cd0>, <__main__.Card object at 0x7fc8f19d0990>]', '[<__main__.Card object at 0x7fc8f1d17e90>, <__main__.Card object at 0x7fc8f1ac2190>, <__main__.Card object at 0x7fc8f1abd0d0>, <__main__.Card object at 0x7fc8f19d0b50>, <__main__.Card object at 0x7fc8f19d0990>]', '[<__main__.Card object at 0x7fc8f1d17e90>, <__main__.Card object at 0x7fc8f1ac2190>, <__main__.Card object at 0x7fc8f19d0cd0>, <__main__.Card object at 0x7fc8f19d0b50>, <__main__.Card object at 0x7fc8f19d0990>]', '[<__main__.Card object at 0x7fc8f1d17e90>, <__main__.Card object at 0x7fc8f1abd0d0>, <__main__.Card object at 0x7fc8f19d0cd0>, <__main__.Card object at 0x7fc8f19d0b50>, <__main__.Card object at 0x7fc8f19d0990>]', '[<__main__.Card object at 0x7fc8f1ac2190>, <__main__.Card object at 0x7fc8f1abd0d0>, <__main__.Card object at 0x7fc8f19d0cd0>, <__main__.Card object at 0x7fc8f19d0b50>, <__main__.Card object at 0x7fc8f19d0990>]']\n"
     ]
    }
   ],
   "source": [
    "for player in g.players:\n",
    "    print([str(card) for card in player.possible_hands])"
   ]
  },
  {
   "cell_type": "code",
   "execution_count": null,
   "metadata": {},
   "outputs": [],
   "source": []
  }
 ],
 "metadata": {
  "kernelspec": {
   "display_name": "Python 3",
   "language": "python",
   "name": "python3"
  },
  "language_info": {
   "codemirror_mode": {
    "name": "ipython",
    "version": 3
   },
   "file_extension": ".py",
   "mimetype": "text/x-python",
   "name": "python",
   "nbconvert_exporter": "python",
   "pygments_lexer": "ipython3",
   "version": "3.7.6"
  }
 },
 "nbformat": 4,
 "nbformat_minor": 4
}
