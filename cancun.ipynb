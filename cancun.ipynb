{
 "cells": [
  {
   "cell_type": "code",
   "execution_count": 4,
   "metadata": {},
   "outputs": [],
   "source": [
    "import numpy as np\n",
    "import matplotlib.pyplot as plt\n",
    "import pandas as pd"
   ]
  },
  {
   "cell_type": "code",
   "execution_count": 5,
   "metadata": {},
   "outputs": [],
   "source": [
    "def cost(n):\n",
    "    total_cost = 0\n",
    "    gross_cost = 1350\n",
    "    for i in range(n):\n",
    "        if n >= 12 and n < 50:\n",
    "            total_cost += gross_cost - 20\n",
    "        elif n >= 50 and n < 100:\n",
    "            total_cost += gross_cost - 25\n",
    "        elif n >= 100:\n",
    "            total_cost += gross_cost - 40\n",
    "        else:\n",
    "            total_cost += 1350\n",
    "    \n",
    "    if n >= 16:\n",
    "        total_cost -= gross_cost\n",
    "        \n",
    "    cost_per_person = total_cost / n\n",
    "    return cost_per_person"
   ]
  },
  {
   "cell_type": "code",
   "execution_count": 6,
   "metadata": {},
   "outputs": [
    {
     "name": "stdout",
     "output_type": "stream",
     "text": [
      "1245.625\n"
     ]
    },
    {
     "data": {
      "text/plain": [
       "[<matplotlib.lines.Line2D at 0x7fc516193ed0>]"
      ]
     },
     "execution_count": 6,
     "metadata": {},
     "output_type": "execute_result"
    },
    {
     "data": {
      "image/png": "[encoded data removed]",
      "text/plain": [
       "<Figure size 432x288 with 1 Axes>"
      ]
     },
     "metadata": {
      "needs_background": "light"
     },
     "output_type": "display_data"
    }
   ],
   "source": [
    "x = [i for i in range(1, 200)]\n",
    "y = [cost(i) for i in x]\n",
    "\n",
    "df = pd.DataFrame()\n",
    "df['Number-Of-People'] = x\n",
    "df['Cost-Per-Person'] = y\n",
    "\n",
    "df.to_csv(\"cancun.csv\", index=False)\n",
    "\n",
    "print(y[15])\n",
    "\n",
    "plt.plot(x, y)"
   ]
  },
  {
   "cell_type": "code",
   "execution_count": 7,
   "metadata": {},
   "outputs": [
    {
     "data": {
      "text/plain": [
       "1330.0"
      ]
     },
     "execution_count": 7,
     "metadata": {},
     "output_type": "execute_result"
    }
   ],
   "source": [
    "cost(13)"
   ]
  },
  {
   "cell_type": "code",
   "execution_count": 8,
   "metadata": {},
   "outputs": [],
   "source": [
    "def cost_go_blue(n):\n",
    "    total_cost = 0\n",
    "    for i in range(1, n):\n",
    "        total_cost += 1200\n",
    "    \n",
    "    if n >= 14:\n",
    "        total_cost -= 1050\n",
    "    \n",
    "    cost_per_person = total_cost/n\n",
    "    \n",
    "    return cost_per_person"
   ]
  },
  {
   "cell_type": "code",
   "execution_count": 12,
   "metadata": {},
   "outputs": [
    {
     "data": {
      "text/plain": [
       "[<matplotlib.lines.Line2D at 0x7fc51642af90>]"
      ]
     },
     "execution_count": 12,
     "metadata": {},
     "output_type": "execute_result"
    },
    {
     "data": {
      "image/png": "[encoded data removed]",
      "text/plain": [
       "<Figure size 432x288 with 1 Axes>"
      ]
     },
     "metadata": {
      "needs_background": "light"
     },
     "output_type": "display_data"
    }
   ],
   "source": [
    "x = [i for i in range(10, 30)]\n",
    "y = [cost_go_blue(i) for i in x]\n",
    "\n",
    "plt.plot(x, y)"
   ]
  },
  {
   "cell_type": "code",
   "execution_count": null,
   "metadata": {},
   "outputs": [],
   "source": []
  }
 ],
 "metadata": {
  "kernelspec": {
   "display_name": "Python 3",
   "language": "python",
   "name": "python3"
  },
  "language_info": {
   "codemirror_mode": {
    "name": "ipython",
    "version": 3
   },
   "file_extension": ".py",
   "mimetype": "text/x-python",
   "name": "python",
   "nbconvert_exporter": "python",
   "pygments_lexer": "ipython3",
   "version": "3.7.6"
  }
 },
 "nbformat": 4,
 "nbformat_minor": 4
}
