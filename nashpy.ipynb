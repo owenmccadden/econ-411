{
 "cells": [
  {
   "cell_type": "code",
   "execution_count": 10,
   "metadata": {},
   "outputs": [
    {
     "name": "stdout",
     "output_type": "stream",
     "text": [
      "Collecting nashpy\n",
      "  Downloading nashpy-0.0.22.tar.gz (11 kB)\n",
      "\u001b[31m    ERROR: Command errored out with exit status 1:\n",
      "     command: /opt/anaconda3/bin/python -c 'import io, os, sys, setuptools, tokenize; sys.argv[0] = '\"'\"'/private/var/folders/c3/_jn4lv5d6q3bvt7s8607jvmm0000gn/T/pip-install-70npcsa8/nashpy_15120d126c3f428e98290a9fa59fac09/setup.py'\"'\"'; __file__='\"'\"'/private/var/folders/c3/_jn4lv5d6q3bvt7s8607jvmm0000gn/T/pip-install-70npcsa8/nashpy_15120d126c3f428e98290a9fa59fac09/setup.py'\"'\"';f = getattr(tokenize, '\"'\"'open'\"'\"', open)(__file__) if os.path.exists(__file__) else io.StringIO('\"'\"'from setuptools import setup; setup()'\"'\"');code = f.read().replace('\"'\"'\\r\\n'\"'\"', '\"'\"'\\n'\"'\"');f.close();exec(compile(code, __file__, '\"'\"'exec'\"'\"'))' egg_info --egg-base /private/var/folders/c3/_jn4lv5d6q3bvt7s8607jvmm0000gn/T/pip-pip-egg-info-0blg5ld6\n",
      "         cwd: /private/var/folders/c3/_jn4lv5d6q3bvt7s8607jvmm0000gn/T/pip-install-70npcsa8/nashpy_15120d126c3f428e98290a9fa59fac09/\n",
      "    Complete output (5 lines):\n",
      "    Traceback (most recent call last):\n",
      "      File \"<string>\", line 1, in <module>\n",
      "      File \"/private/var/folders/c3/_jn4lv5d6q3bvt7s8607jvmm0000gn/T/pip-install-70npcsa8/nashpy_15120d126c3f428e98290a9fa59fac09/setup.py\", line 6, in <module>\n",
      "        with open(\"requirements.txt\") as f:\n",
      "    FileNotFoundError: [Errno 2] No such file or directory: 'requirements.txt'\n",
      "    ----------------------------------------\u001b[0m\n",
      "\u001b[33mWARNING: Discarding https://files.pythonhosted.org/packages/93/1c/9005c6a0a3a3b183b5b216cc02cef14bb080fd3ee8733a1006fbcd81fffc/nashpy-0.0.22.tar.gz#sha256=9378fd492f01163ac01a7384dd94f7ffa3ce40e31fe2a08844a2e34576b3d8db (from https://pypi.org/simple/nashpy/). Command errored out with exit status 1: python setup.py egg_info Check the logs for full command output.\u001b[0m\n",
      "  Downloading nashpy-0.0.21.tar.gz (11 kB)\n",
      "Requirement already satisfied: numpy>=1.12.1 in /opt/anaconda3/lib/python3.7/site-packages (from nashpy) (1.21.6)\n",
      "Requirement already satisfied: scipy>=0.19.0 in /opt/anaconda3/lib/python3.7/site-packages (from nashpy) (1.4.1)\n",
      "Building wheels for collected packages: nashpy\n",
      "  Building wheel for nashpy (setup.py) ... \u001b[?25ldone\n",
      "\u001b[?25h  Created wheel for nashpy: filename=nashpy-0.0.21-py3-none-any.whl size=15282 sha256=4f130c8e4851513e297bb5e20d854383bfc02688e36d857c6b8a393c3201e2dc\n",
      "  Stored in directory: /Users/owenmccadden/Library/Caches/pip/wheels/02/08/62/cf4fa931e0a317d180936b266169a57f4bb4eb801465bbe8a1\n",
      "Successfully built nashpy\n",
      "Installing collected packages: nashpy\n",
      "Successfully installed nashpy-0.0.21\n",
      "\u001b[33mWARNING: You are using pip version 21.1.3; however, version 22.2.2 is available.\n",
      "You should consider upgrading via the '/opt/anaconda3/bin/python -m pip install --upgrade pip' command.\u001b[0m\n"
     ]
    }
   ],
   "source": [
    "! python -m pip install nashpy"
   ]
  },
  {
   "cell_type": "code",
   "execution_count": 15,
   "metadata": {},
   "outputs": [],
   "source": [
    "import numpy as np\n",
    "import nashpy as nash"
   ]
  },
  {
   "cell_type": "code",
   "execution_count": 16,
   "metadata": {},
   "outputs": [
    {
     "data": {
      "text/plain": [
       "Bi matrix game with payoff matrices:\n",
       "\n",
       "Row player:\n",
       "[[2 0]\n",
       " [4 2]]\n",
       "\n",
       "Column player:\n",
       "[[4 2]\n",
       " [2 0]]"
      ]
     },
     "execution_count": 16,
     "metadata": {},
     "output_type": "execute_result"
    }
   ],
   "source": [
    "A = np.array([[2,0],[4,2]]) # A is the row player\n",
    "B = np.array([[4,2],[2,0]]) # B is the column player\n",
    "game1 = nash.Game(A,B)\n",
    "game1"
   ]
  },
  {
   "cell_type": "code",
   "execution_count": 17,
   "metadata": {},
   "outputs": [
    {
     "name": "stdout",
     "output_type": "stream",
     "text": [
      "(array([0., 1.]), array([1., 0.]))\n"
     ]
    }
   ],
   "source": [
    "# Find the Nash Equilibrium with Support Enumeration\n",
    "equilibria = game1.support_enumeration()\n",
    "for eq in equilibria:\n",
    "    print(eq)"
   ]
  },
  {
   "cell_type": "code",
   "execution_count": null,
   "metadata": {},
   "outputs": [],
   "source": []
  }
 ],
 "metadata": {
  "kernelspec": {
   "display_name": "Python 3",
   "language": "python",
   "name": "python3"
  },
  "language_info": {
   "codemirror_mode": {
    "name": "ipython",
    "version": 3
   },
   "file_extension": ".py",
   "mimetype": "text/x-python",
   "name": "python",
   "nbconvert_exporter": "python",
   "pygments_lexer": "ipython3",
   "version": "3.7.6"
  }
 },
 "nbformat": 4,
 "nbformat_minor": 4
}
