{
 "cells": [
  {
   "cell_type": "code",
   "execution_count": 205,
   "metadata": {},
   "outputs": [],
   "source": [
    "import numpy as np\n",
    "import random\n",
    "import itertools\n",
    "from operator import attrgetter\n",
    "from collections import defaultdict\n",
    "import matplotlib.pyplot as plt"
   ]
  },
  {
   "cell_type": "code",
   "execution_count": 236,
   "metadata": {},
   "outputs": [],
   "source": [
    "hand_score_map = {\n",
    "    1: \"High Card\",\n",
    "    2: \"Pair\",\n",
    "    3: \"Two Pair\",\n",
    "    4: \"Trips\",\n",
    "    5: \"Straight\",\n",
    "    6: \"Flush\",\n",
    "    7: \"Full House\",\n",
    "    8: \"Quads\",\n",
    "    9: \"Straight Flush\",\n",
    "    10: \"Royal Flush\"\n",
    "}"
   ]
  },
  {
   "cell_type": "code",
   "execution_count": 2,
   "metadata": {},
   "outputs": [],
   "source": [
    "suits = {'Hearts', 'Clubs', 'Spades', 'Diamonds'}\n",
    "\n",
    "card_name_map = {\n",
    "            'Two': 2,\n",
    "            'Three': 3,\n",
    "            'Four': 4,\n",
    "            'Five': 5,\n",
    "            'Six': 6,\n",
    "            'Seven': 7,\n",
    "            'Eight': 8,\n",
    "            'Nine': 9,\n",
    "            'Ten': 10,\n",
    "            'Jack': 11, \n",
    "            'Queen': 12, \n",
    "            'King': 13, \n",
    "            'Ace': 14\n",
    "            }\n",
    "\n",
    "card_value_map = dict((reversed(item) for item in card_name_map.items()))"
   ]
  },
  {
   "cell_type": "code",
   "execution_count": 3,
   "metadata": {},
   "outputs": [],
   "source": [
    "class Card:\n",
    "    def __init__(self, name, suit):\n",
    "        self.suit = suit\n",
    "        self.name = name\n",
    "        if self.name == 'Six':\n",
    "            self.name_plural = 'Sixes'\n",
    "        else:\n",
    "            self.name_plural = self.name + 's'\n",
    "        self.value = card_name_map[self.name]\n",
    "    \n",
    "    def __str__(self):\n",
    "        return '{} of {}'.format(self.name, self.suit)"
   ]
  },
  {
   "cell_type": "code",
   "execution_count": 4,
   "metadata": {},
   "outputs": [],
   "source": [
    "class Deck:\n",
    "    def __init__(self):\n",
    "        self.deck = []\n",
    "        for suit in suits:\n",
    "            for card_name in card_name_map:\n",
    "                self.deck.append(Card(card_name, suit))\n",
    "        self.shuffle()\n",
    "                \n",
    "    def __str__(self):\n",
    "        return ''.join(['{} \\n'.format(card) for card in self.deck])\n",
    "    \n",
    "    def shuffle(self):\n",
    "        random.shuffle(self.deck)\n",
    "    \n",
    "    def draw(self):\n",
    "        return self.deck.pop(0)\n",
    "        "
   ]
  },
  {
   "cell_type": "code",
   "execution_count": 5,
   "metadata": {},
   "outputs": [],
   "source": [
    "class Player:\n",
    "    def __init__(self, name, chips):\n",
    "        self.chips = chips\n",
    "        self.name = name\n",
    "        self.hand = []\n",
    "        self.possible_hands = []\n",
    "        self.best_hand = {}\n",
    "        self.pre_bet_moves = {'check', 'bet'}\n",
    "        self.post_bet_moves = {'fold', 'call', 'raise'}\n",
    "        \n",
    "    def __str__(self):\n",
    "        return '{}{}'.format('Player: {}\\nChips: {}\\n'.format(self.name, self.chips), ''.join(['{} \\n'.format(card) for card in self.hand]))\n",
    "    \n",
    "    def bet(self, amount):\n",
    "        self.chips -= amount\n",
    "        return amount\n",
    "    \n",
    "    \n",
    "    "
   ]
  },
  {
   "cell_type": "code",
   "execution_count": 188,
   "metadata": {},
   "outputs": [],
   "source": [
    "class Table:\n",
    "    def __init__(self, deck):\n",
    "        self.deck = deck\n",
    "        self.cards = []\n",
    "    "
   ]
  },
  {
   "cell_type": "code",
   "execution_count": 180,
   "metadata": {},
   "outputs": [],
   "source": [
    "class Game:\n",
    "    def __init__(self, players, buy_in):\n",
    "        self.players = [Player('{}'.format(i), buy_in) for i in range(players)]\n",
    "        self.deck = Deck()\n",
    "        self.table = Table(self.deck)\n",
    "        self.pot = 0\n",
    "        \n",
    "        \n",
    "    def __str__(self):\n",
    "        return ''.join(['{}\\n'.format(player) for player in self.players])\n",
    "        \n",
    "    def deal(self):\n",
    "        [[player.hand.append(card) for card in [self.deck.draw() for i in range(2)]] for player in self.players]\n",
    "        \n",
    "    def flop(self):\n",
    "        temp_flop = []\n",
    "        for i in range(3):\n",
    "            card = self.deck.draw()\n",
    "            self.table.cards.append(card)\n",
    "            temp_flop.append(card)\n",
    "        \n",
    "        return ''.join(['{}\\n'.format(card) for card in temp_flop])\n",
    "    \n",
    "    def turn(self):\n",
    "        temp_turn = self.deck.draw()\n",
    "        self.table.cards.append(temp_turn)\n",
    "        return temp_turn\n",
    "    \n",
    "    def river(self):\n",
    "        temp_river = self.deck.draw()\n",
    "        self.table.cards.append(temp_river)\n",
    "        return temp_river\n",
    "\n",
    "#     def get_nuts(self):\n",
    "    \n",
    "    def get_winning_hand(self):\n",
    "        return sorted([self.get_best_hand(player) for player in self.players], key=lambda x: x['score'])[::-1][0]\n",
    "        \n",
    "    def get_best_hand(self, player):\n",
    "        return evaluate_all_hands(player, self.table)[0]\n",
    "        \n",
    "    def evaluate_possible_hands(self, player):\n",
    "        return sorted([{'hand': [str(card) for card in res['hand']], 'name': res['name'], 'score': res['score']} for res in [self.evaluate_hand(comb) for comb in self.get_possible_hands(player, self.table)]], key=lambda x: x['score'])[::-1]\n",
    "        \n",
    "    def get_possible_hands(self, player):\n",
    "        maxScore = 0\n",
    "        cards = player.hand[:] + self.table.cards[:]\n",
    "        combs = []\n",
    "        for comb in itertools.combinations(cards, 5):\n",
    "            combs.append(list(comb))\n",
    "        return combs\n",
    "        \n",
    "    def evaluate_hand(self, cards):\n",
    "        royal_flag = False\n",
    "        flush_flag = False\n",
    "        straight_flag = False\n",
    "\n",
    "        quads_flag = False\n",
    "        quads_card = None\n",
    "        quads_kicker = None\n",
    "\n",
    "        full_house_flag = False\n",
    "        full_house_trips_card = None\n",
    "        full_house_pair_card = None\n",
    "\n",
    "        trips_flag = False\n",
    "        trips_card = None\n",
    "        trips_kicker = None\n",
    "\n",
    "        two_pair_flag = False\n",
    "        top_pair_card = None\n",
    "        bottom_pair_card = None\n",
    "\n",
    "        pair_flag = False\n",
    "        pair_card = None\n",
    "        pair_kicker = None\n",
    "\n",
    "        max_card = max(cards, key=attrgetter('value'))\n",
    "        max_card_name = max_card.name\n",
    "\n",
    "        card_count_map = defaultdict(int)\n",
    "        card_suit_map = defaultdict(int)\n",
    "\n",
    "        for card in cards:\n",
    "            card_count_map[card.value] += 1\n",
    "            card_suit_map[card.suit] += 1\n",
    "\n",
    "    #     print(card_count_map)\n",
    "    #     print(card_suit_map)\n",
    "        for card in card_count_map:\n",
    "            if card_count_map[card] == 4:\n",
    "                quads_flag = True\n",
    "                quads_card = card_value_map[card]\n",
    "\n",
    "\n",
    "        # Check for a flush\n",
    "        flush_flag = len(card_suit_map) == 1\n",
    "\n",
    "        # Check for a straight\n",
    "        isStraight = True\n",
    "        # Sort cards by increasing rank\n",
    "        cards.sort(key=lambda card_: card_.value)\n",
    "        for i in range(1, len(cards)):\n",
    "            if cards[i].value - 1 != cards[i - 1].value:\n",
    "                isStraight = False\n",
    "\n",
    "        # Check for royal flush\n",
    "        if isStraight and flush_flag:\n",
    "            isRoyal = False\n",
    "            # Do royal flush check\n",
    "            if isRoyal:\n",
    "                return {\n",
    "                    \"hand\": cards,\n",
    "                    \"name\": \"Royal Flush\",\n",
    "                    \"score\": 10\n",
    "                }\n",
    "            else:\n",
    "                return {\n",
    "                    \"hand\": cards,\n",
    "                    \"name\": \"Straight Flush\",\n",
    "                    \"score\": 9\n",
    "                }\n",
    "\n",
    "        # Check for four of a kind, only two ways\n",
    "        if cards[0].value == cards[3].value or cards[1].value == cards[4].value:\n",
    "            return {\n",
    "                    \"hand\": cards,\n",
    "                    \"name\": \"Quads\",\n",
    "                    \"score\": 8\n",
    "            }\n",
    "\n",
    "        # Check for full house\n",
    "        if ((cards[0].value == cards[1].value and cards[2].value == cards[4].value) or\n",
    "                (cards[0].value == cards[2].value and cards[3].value == cards[4].value)):\n",
    "            return {\n",
    "                    \"hand\": cards,\n",
    "                    \"name\": \"Full House\",\n",
    "                    \"score\": 7\n",
    "            }\n",
    "\n",
    "        if flush_flag:\n",
    "            return {\n",
    "                    \"hand\": cards,\n",
    "                    \"name\": \"{} High Flush\".format(max_card_name),\n",
    "                    \"score\": 6\n",
    "            }\n",
    "\n",
    "        if isStraight:\n",
    "            return {\n",
    "                    \"hand\": cards,\n",
    "                    \"name\": \"Straight\",\n",
    "                    \"score\": 5\n",
    "            }\n",
    "\n",
    "        # Check for three of a kind, only three ways\n",
    "        if cards[0].value == cards[2].value or (cards[1].value == cards[3].value\n",
    "                                                            or cards[2].value == cards[4].value):\n",
    "            return {\n",
    "                    \"hand\": cards,\n",
    "                    \"name\": \"Trips\",\n",
    "                    \"score\": 4\n",
    "            }\n",
    "\n",
    "        # Check for two pairs, only two ways\n",
    "        if ((cards[0].value == cards[1].value and cards[2].value == cards[3].value) or\n",
    "                (cards[1].value == cards[2].value and cards[3].value == cards[4].value)):\n",
    "            return {\n",
    "                    \"hand\": cards,\n",
    "                    \"name\": \"Two Pair\",\n",
    "                    \"score\": 3\n",
    "            }\n",
    "\n",
    "        # Check for a single pair\n",
    "        for i in range(1, len(cards)):\n",
    "            if cards[i].value == cards[i - 1].value:\n",
    "                pair_name = cards[i].name_plural\n",
    "                return {\n",
    "                    \"hand\": cards,\n",
    "                    \"name\": \"Pair of {}\".format(pair_name),\n",
    "                    \"score\": 2\n",
    "                }\n",
    "\n",
    "\n",
    "        # No combination, return high card\n",
    "        return {\n",
    "                    \"hand\": cards,\n",
    "                    \"name\": \"{} High\".format(max_card_name),\n",
    "                    \"score\": 1\n",
    "                }\n",
    "\n",
    "\n"
   ]
  },
  {
   "cell_type": "code",
   "execution_count": 200,
   "metadata": {},
   "outputs": [
    {
     "name": "stdout",
     "output_type": "stream",
     "text": [
      "Player: 0\n",
      "Chips: 10\n",
      "Four of Diamonds \n",
      "Jack of Clubs \n",
      "\n",
      "Player: 1\n",
      "Chips: 10\n",
      "Ten of Clubs \n",
      "Three of Spades \n",
      "\n",
      "Player: 2\n",
      "Chips: 10\n",
      "Three of Hearts \n",
      "King of Clubs \n",
      "\n",
      "Player: 3\n",
      "Chips: 10\n",
      "Three of Clubs \n",
      "Seven of Spades \n",
      "\n",
      "Player: 4\n",
      "Chips: 10\n",
      "Two of Clubs \n",
      "Eight of Spades \n",
      "\n",
      "\n"
     ]
    }
   ],
   "source": [
    "g = Game(5, 10)\n",
    "g.deal()\n",
    "\n",
    "print(g)"
   ]
  },
  {
   "cell_type": "code",
   "execution_count": 201,
   "metadata": {},
   "outputs": [
    {
     "name": "stdout",
     "output_type": "stream",
     "text": [
      "Six of Clubs\n",
      "Two of Diamonds\n",
      "Three of Diamonds\n",
      "\n"
     ]
    }
   ],
   "source": [
    "print(g.flop())"
   ]
  },
  {
   "cell_type": "code",
   "execution_count": 202,
   "metadata": {},
   "outputs": [
    {
     "name": "stdout",
     "output_type": "stream",
     "text": [
      "Queen of Diamonds\n"
     ]
    }
   ],
   "source": [
    "print(g.turn())"
   ]
  },
  {
   "cell_type": "code",
   "execution_count": 203,
   "metadata": {},
   "outputs": [
    {
     "name": "stdout",
     "output_type": "stream",
     "text": [
      "Nine of Diamonds\n"
     ]
    }
   ],
   "source": [
    "print(g.river())"
   ]
  },
  {
   "cell_type": "code",
   "execution_count": 204,
   "metadata": {
    "scrolled": true
   },
   "outputs": [
    {
     "data": {
      "text/plain": [
       "{'hand': ['Two of Diamonds',\n",
       "  'Three of Diamonds',\n",
       "  'Four of Diamonds',\n",
       "  'Nine of Diamonds',\n",
       "  'Queen of Diamonds'],\n",
       " 'name': 'Queen High Flush',\n",
       " 'score': 6}"
      ]
     },
     "execution_count": 204,
     "metadata": {},
     "output_type": "execute_result"
    }
   ],
   "source": [
    "g.get_winning_hand()"
   ]
  },
  {
   "cell_type": "code",
   "execution_count": 246,
   "metadata": {},
   "outputs": [],
   "source": [
    "def simulate(x):\n",
    "    results = {i: 0 for i in range(1,11)}\n",
    "\n",
    "    for i in range(10000):\n",
    "        g = Game(x, 10)\n",
    "        g.deal()\n",
    "        g.flop()\n",
    "        g.turn()\n",
    "        g.river\n",
    "        results[g.get_winning_hand()['score']] += 1\n",
    "\n",
    "    print(\"{} players\".format(x))\n",
    "    print({hand_score_map[i]: results[i] for i in range(1, 11)})\n",
    "\n",
    "    plt.scatter(*zip(*results.items()))\n",
    "    plt.show()\n",
    "    "
   ]
  },
  {
   "cell_type": "code",
   "execution_count": 248,
   "metadata": {},
   "outputs": [
    {
     "name": "stdout",
     "output_type": "stream",
     "text": [
      "1 players\n",
      "{'High Card': 3249, 'Pair': 4953, 'Two Pair': 1072, 'Trips': 348, 'Straight': 182, 'Flush': 101, 'Full House': 87, 'Quads': 8, 'Straight Flush': 0, 'Royal Flush': 0}\n"
     ]
    },
    {
     "data": {
      "image/png": "[encoded data removed]",
      "text/plain": [
       "<Figure size 432x288 with 1 Axes>"
      ]
     },
     "metadata": {
      "needs_background": "light"
     },
     "output_type": "display_data"
    },
    {
     "name": "stdout",
     "output_type": "stream",
     "text": [
      "2 players\n",
      "{'High Card': 1533, 'Pair': 5545, 'Two Pair': 1667, 'Trips': 593, 'Straight': 300, 'Flush': 179, 'Full House': 161, 'Quads': 19, 'Straight Flush': 3, 'Royal Flush': 0}\n"
     ]
    },
    {
     "data": {
      "image/png": "[encoded data removed]",
      "text/plain": [
       "<Figure size 432x288 with 1 Axes>"
      ]
     },
     "metadata": {
      "needs_background": "light"
     },
     "output_type": "display_data"
    },
    {
     "name": "stdout",
     "output_type": "stream",
     "text": [
      "3 players\n",
      "{'High Card': 705, 'Pair': 5400, 'Two Pair': 2150, 'Trips': 870, 'Straight': 390, 'Flush': 258, 'Full House': 204, 'Quads': 21, 'Straight Flush': 2, 'Royal Flush': 0}\n"
     ]
    },
    {
     "data": {
      "image/png": "[encoded data removed]",
      "text/plain": [
       "<Figure size 432x288 with 1 Axes>"
      ]
     },
     "metadata": {
      "needs_background": "light"
     },
     "output_type": "display_data"
    },
    {
     "name": "stdout",
     "output_type": "stream",
     "text": [
      "4 players\n",
      "{'High Card': 314, 'Pair': 5143, 'Two Pair': 2327, 'Trips': 1048, 'Straight': 518, 'Flush': 323, 'Full House': 298, 'Quads': 25, 'Straight Flush': 4, 'Royal Flush': 0}\n"
     ]
    },
    {
     "data": {
      "image/png": "[encoded data removed]",
      "text/plain": [
       "<Figure size 432x288 with 1 Axes>"
      ]
     },
     "metadata": {
      "needs_background": "light"
     },
     "output_type": "display_data"
    },
    {
     "name": "stdout",
     "output_type": "stream",
     "text": [
      "5 players\n",
      "{'High Card': 143, 'Pair': 4606, 'Two Pair': 2517, 'Trips': 1291, 'Straight': 676, 'Flush': 418, 'Full House': 317, 'Quads': 29, 'Straight Flush': 3, 'Royal Flush': 0}\n"
     ]
    },
    {
     "data": {
      "image/png": "[encoded data removed]",
      "text/plain": [
       "<Figure size 432x288 with 1 Axes>"
      ]
     },
     "metadata": {
      "needs_background": "light"
     },
     "output_type": "display_data"
    },
    {
     "name": "stdout",
     "output_type": "stream",
     "text": [
      "6 players\n",
      "{'High Card': 43, 'Pair': 4247, 'Two Pair': 2578, 'Trips': 1540, 'Straight': 729, 'Flush': 451, 'Full House': 377, 'Quads': 35, 'Straight Flush': 0, 'Royal Flush': 0}\n"
     ]
    },
    {
     "data": {
      "image/png": "[encoded data removed]",
      "text/plain": [
       "<Figure size 432x288 with 1 Axes>"
      ]
     },
     "metadata": {
      "needs_background": "light"
     },
     "output_type": "display_data"
    },
    {
     "name": "stdout",
     "output_type": "stream",
     "text": [
      "7 players\n",
      "{'High Card': 27, 'Pair': 3891, 'Two Pair': 2599, 'Trips': 1605, 'Straight': 827, 'Flush': 519, 'Full House': 478, 'Quads': 47, 'Straight Flush': 7, 'Royal Flush': 0}\n"
     ]
    },
    {
     "data": {
      "image/png": "[encoded data removed]",
      "text/plain": [
       "<Figure size 432x288 with 1 Axes>"
      ]
     },
     "metadata": {
      "needs_background": "light"
     },
     "output_type": "display_data"
    },
    {
     "name": "stdout",
     "output_type": "stream",
     "text": [
      "8 players\n",
      "{'High Card': 4, 'Pair': 3572, 'Two Pair': 2665, 'Trips': 1763, 'Straight': 903, 'Flush': 552, 'Full House': 482, 'Quads': 55, 'Straight Flush': 4, 'Royal Flush': 0}\n"
     ]
    },
    {
     "data": {
      "image/png": "[encoded data removed]",
      "text/plain": [
       "<Figure size 432x288 with 1 Axes>"
      ]
     },
     "metadata": {
      "needs_background": "light"
     },
     "output_type": "display_data"
    },
    {
     "name": "stdout",
     "output_type": "stream",
     "text": [
      "9 players\n",
      "{'High Card': 2, 'Pair': 3194, 'Two Pair': 2617, 'Trips': 1872, 'Straight': 970, 'Flush': 654, 'Full House': 613, 'Quads': 68, 'Straight Flush': 10, 'Royal Flush': 0}\n"
     ]
    },
    {
     "data": {
      "image/png": "[encoded data removed]",
      "text/plain": [
       "<Figure size 432x288 with 1 Axes>"
      ]
     },
     "metadata": {
      "needs_background": "light"
     },
     "output_type": "display_data"
    },
    {
     "name": "stdout",
     "output_type": "stream",
     "text": [
      "10 players\n",
      "{'High Card': 3, 'Pair': 3017, 'Two Pair': 2528, 'Trips': 2012, 'Straight': 1099, 'Flush': 656, 'Full House': 625, 'Quads': 54, 'Straight Flush': 6, 'Royal Flush': 0}\n"
     ]
    },
    {
     "data": {
      "image/png": "[encoded data removed]",
      "text/plain": [
       "<Figure size 432x288 with 1 Axes>"
      ]
     },
     "metadata": {
      "needs_background": "light"
     },
     "output_type": "display_data"
    }
   ],
   "source": [
    "for i in range(1, 11):\n",
    "    simulate(i)"
   ]
  },
  {
   "cell_type": "code",
   "execution_count": 224,
   "metadata": {},
   "outputs": [
    {
     "name": "stdout",
     "output_type": "stream",
     "text": [
      "{1: 7194, 2: 53964, 3: 21219, 4: 8286, 5: 4260, 6: 2612, 7: 2229, 8: 212, 9: 24, 10: 0}\n"
     ]
    },
    {
     "data": {
      "image/png": "[encoded data removed]",
      "text/plain": [
       "<Figure size 432x288 with 1 Axes>"
      ]
     },
     "metadata": {
      "needs_background": "light"
     },
     "output_type": "display_data"
    }
   ],
   "source": [
    "results = {i: 0 for i in range(1,11)}\n",
    "\n",
    "for i in range(100000):\n",
    "    g = Game(3, 10)\n",
    "    g.deal()\n",
    "    g.flop()\n",
    "    g.turn()\n",
    "    g.river\n",
    "#     g.get_winning_hand()\n",
    "    results[g.get_winning_hand()['score']] += 1\n",
    "    \n",
    "print(results)\n",
    "    \n",
    "plt.scatter(*zip(*results.items()))\n",
    "plt.show()\n",
    "    "
   ]
  },
  {
   "cell_type": "code",
   "execution_count": null,
   "metadata": {},
   "outputs": [],
   "source": []
  }
 ],
 "metadata": {
  "kernelspec": {
   "display_name": "Python 3",
   "language": "python",
   "name": "python3"
  },
  "language_info": {
   "codemirror_mode": {
    "name": "ipython",
    "version": 3
   },
   "file_extension": ".py",
   "mimetype": "text/x-python",
   "name": "python",
   "nbconvert_exporter": "python",
   "pygments_lexer": "ipython3",
   "version": "3.7.6"
  }
 },
 "nbformat": 4,
 "nbformat_minor": 4
}
