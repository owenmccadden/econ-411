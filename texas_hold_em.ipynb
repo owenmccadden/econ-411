{
 "cells": [
  {
   "cell_type": "code",
   "execution_count": 102,
   "metadata": {},
   "outputs": [],
   "source": [
    "import numpy as np\n",
    "import random"
   ]
  },
  {
   "cell_type": "code",
   "execution_count": 103,
   "metadata": {},
   "outputs": [],
   "source": [
    "suits = {'Hearts', 'Clubs', 'Spades', 'Diamonds'}\n",
    "\n",
    "card_name_map = {\n",
    "            'Two': 2,\n",
    "            'Three': 3,\n",
    "            'Four': 4,\n",
    "            'Five': 5,\n",
    "            'Six': 6,\n",
    "            'Seven': 7,\n",
    "            'Eight': 8,\n",
    "            'Nine': 9,\n",
    "            'Ten': 10,\n",
    "            'Jack': 11, \n",
    "            'Queen': 12, \n",
    "            'King': 13, \n",
    "            'Ace': 14\n",
    "            }"
   ]
  },
  {
   "cell_type": "code",
   "execution_count": 104,
   "metadata": {},
   "outputs": [],
   "source": [
    "class Card:\n",
    "    def __init__(self, name, suit):\n",
    "        self.suit = suit\n",
    "        self.name = name\n",
    "        self.value = card_name_map[self.name]\n",
    "    \n",
    "    def __str__(self):\n",
    "        return '{} of {}'.format(self.name, self.suit)"
   ]
  },
  {
   "cell_type": "code",
   "execution_count": 119,
   "metadata": {},
   "outputs": [],
   "source": [
    "class Deck:\n",
    "    def __init__(self):\n",
    "        self.deck = []\n",
    "        for suit in suits:\n",
    "            for card_name in card_name_map:\n",
    "                self.deck.append(Card(card_name, suit))\n",
    "        self.shuffle()\n",
    "                \n",
    "    def __str__(self):\n",
    "        return ''.join(['{} \\n'.format(card) for card in self.deck])\n",
    "    \n",
    "    def shuffle(self):\n",
    "        random.shuffle(self.deck)\n",
    "    \n",
    "    def draw(self):\n",
    "        return self.deck.pop(0)\n",
    "        "
   ]
  },
  {
   "cell_type": "code",
   "execution_count": 114,
   "metadata": {},
   "outputs": [],
   "source": [
    "class Player:\n",
    "    def __init__(self, name, chips):\n",
    "        self.chips = chips\n",
    "        self.name = name\n",
    "        self.hand = []\n",
    "        self.pre_bet_moves = {'check', 'bet'}\n",
    "        self.post_bet_moves = {'fold', 'call', 'raise'}\n",
    "        \n",
    "    def __str__(self):\n",
    "        return '{}{}'.format('Player: {}\\nChips: {}\\n'.format(self.name, self.chips), ''.join(['{} \\n'.format(card) for card in self.hand]))\n",
    "    \n",
    "    def bet(self, amount):\n",
    "        self.chips. -= amount\n",
    "        return amount\n",
    "    \n",
    "    \n",
    "    "
   ]
  },
  {
   "cell_type": "code",
   "execution_count": 115,
   "metadata": {},
   "outputs": [],
   "source": [
    "class Game:\n",
    "    def __init__(self, players, buy_in):\n",
    "        self.players = [Player('{}'.format(i), buy_in) for i in range(players)]\n",
    "        self.deck = Deck()\n",
    "        self.pot = 0\n",
    "        \n",
    "        \n",
    "    def __str__(self):\n",
    "        return ''.join(['{}\\n'.format(player) for player in self.players])\n",
    "        \n",
    "    def deal(self):\n",
    "        [[player.hand.append(card) for card in [self.deck.draw() for i in range(2)]] for player in self.players]\n",
    "        \n",
    "    def flop(self):\n",
    "        return ''.join(['{}\\n'.format(card) for card in [self.deck.draw() for i in range(3)]])\n",
    "    \n",
    "    def turn(self):\n",
    "        return self.deck.draw()\n",
    "    \n",
    "    def river(self):\n",
    "        return self.deck.draw()"
   ]
  },
  {
   "cell_type": "code",
   "execution_count": 120,
   "metadata": {},
   "outputs": [
    {
     "name": "stdout",
     "output_type": "stream",
     "text": [
      "Player: 0\n",
      "Chips: 10\n",
      "Six of Hearts \n",
      "Eight of Diamonds \n",
      "\n",
      "\n"
     ]
    }
   ],
   "source": [
    "g = Game(1, 10)\n",
    "g.deal()\n",
    "\n",
    "print(g)"
   ]
  },
  {
   "cell_type": "code",
   "execution_count": 109,
   "metadata": {},
   "outputs": [
    {
     "name": "stdout",
     "output_type": "stream",
     "text": [
      "Jack of Diamonds\n",
      "Queen of Diamonds\n",
      "Ten of Hearts\n",
      "\n"
     ]
    }
   ],
   "source": [
    "print(g.flop())"
   ]
  },
  {
   "cell_type": "code",
   "execution_count": 110,
   "metadata": {},
   "outputs": [
    {
     "name": "stdout",
     "output_type": "stream",
     "text": [
      "Queen of Clubs\n"
     ]
    }
   ],
   "source": [
    "print(g.turn())"
   ]
  },
  {
   "cell_type": "code",
   "execution_count": 111,
   "metadata": {},
   "outputs": [
    {
     "name": "stdout",
     "output_type": "stream",
     "text": [
      "Five of Hearts\n"
     ]
    }
   ],
   "source": [
    "print(g.river())"
   ]
  },
  {
   "cell_type": "code",
   "execution_count": 112,
   "metadata": {},
   "outputs": [
    {
     "name": "stdout",
     "output_type": "stream",
     "text": [
      "Jack of Diamonds\n"
     ]
    }
   ],
   "source": [
    "river = d.river()\n",
    "print(river)"
   ]
  },
  {
   "cell_type": "code",
   "execution_count": null,
   "metadata": {},
   "outputs": [],
   "source": []
  }
 ],
 "metadata": {
  "kernelspec": {
   "display_name": "Python 3",
   "language": "python",
   "name": "python3"
  },
  "language_info": {
   "codemirror_mode": {
    "name": "ipython",
    "version": 3
   },
   "file_extension": ".py",
   "mimetype": "text/x-python",
   "name": "python",
   "nbconvert_exporter": "python",
   "pygments_lexer": "ipython3",
   "version": "3.7.6"
  }
 },
 "nbformat": 4,
 "nbformat_minor": 4
}
