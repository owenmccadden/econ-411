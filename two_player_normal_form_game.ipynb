{
 "cells": [
  {
   "cell_type": "code",
   "execution_count": 2,
   "metadata": {},
   "outputs": [],
   "source": [
    "import numpy as np\n",
    "import itertools"
   ]
  },
  {
   "cell_type": "code",
   "execution_count": 1,
   "metadata": {},
   "outputs": [],
   "source": [
    "class Player:\n",
    "    def __init__(self, name, strategy_set):\n",
    "        self.name = name\n",
    "        self.strategy_set = strategy_set"
   ]
  },
  {
   "cell_type": "code",
   "execution_count": 63,
   "metadata": {},
   "outputs": [],
   "source": [
    "class Game:\n",
    "    def __init__(self, player_one, player_two):\n",
    "        self.player_one = player_one\n",
    "        self.player_two = player_two\n",
    "        self.players = [self.player_one, self.player_two]\n",
    "        self.possible_outcomes = list(itertools.product(*[player.strategy_set for player in self.players]))\n",
    "        self.payoff_map = {}\n",
    "        self.payoff_matrix = np.array\n",
    "        self.best_responses = {}\n",
    "        for outcome in self.possible_outcomes:\n",
    "            self.payoff_map[outcome] = (0,0)\n",
    "        \n",
    "        for player in self.players:\n",
    "            self.best_responses[player.name] = {}\n",
    "            for strategy in player.strategy_set:\n",
    "                self.best_responses[player.name][strategy] = 0\n",
    "    \n",
    "    def set_payoff(self, outcome, payoff):\n",
    "        self.payoff_map[outcome] = payoff\n",
    "        \n",
    "    def find_best_responses(self):\n",
    "        possible_payoffs = {}\n",
    "        for strategy in self.player_two.strategy_set:\n",
    "            possible_payoffs[strategy] = {}\n",
    "            for outcome in self.payoff_map:\n",
    "                if outcome[1] == strategy:\n",
    "                    possible_payoffs[strategy][outcome[0]] = self.payoff_map[outcome][0]\n",
    "            self.best_responses[self.player_one.name][strategy] = max(possible_payoffs[strategy], key=possible_payoffs[strategy].get)\n",
    "            \n",
    "            \n",
    "        possible_payoffs = {}\n",
    "        for strategy in self.player_one.strategy_set:\n",
    "            possible_payoffs[strategy] = {}\n",
    "            for outcome in self.payoff_map:\n",
    "                if outcome[1] == strategy:\n",
    "                    possible_payoffs[strategy][outcome[0]] = self.payoff_map[outcome][0]\n",
    "            self.best_responses[self.player_two.name][strategy] = max(possible_payoffs[strategy], key=possible_payoffs[strategy].get)"
   ]
  },
  {
   "cell_type": "code",
   "execution_count": 73,
   "metadata": {},
   "outputs": [],
   "source": [
    "player_1 = Player('one', {'A', 'B'})\n",
    "player_2 = Player('two', {'A', 'B'})\n",
    "example = Game(player_1, player_2)\n",
    "\n",
    "example.set_payoff(('A', 'A'), (0,0))\n",
    "example.set_payoff(('A', 'B'), (2,2))\n",
    "\n",
    "example.set_payoff(('B', 'A'), (2,2))\n",
    "example.set_payoff(('B', 'B'), (0,0))\n",
    "\n",
    "example.find_best_responses()"
   ]
  },
  {
   "cell_type": "code",
   "execution_count": 74,
   "metadata": {},
   "outputs": [
    {
     "data": {
      "text/plain": [
       "{('A', 'A'): (0, 0),\n",
       " ('A', 'B'): (2, 2),\n",
       " ('B', 'A'): (2, 2),\n",
       " ('B', 'B'): (0, 0)}"
      ]
     },
     "execution_count": 74,
     "metadata": {},
     "output_type": "execute_result"
    }
   ],
   "source": [
    "example.payoff_map"
   ]
  },
  {
   "cell_type": "code",
   "execution_count": 75,
   "metadata": {},
   "outputs": [
    {
     "data": {
      "text/plain": [
       "{'one': {'A': 'B', 'B': 'A'}, 'two': {'A': 'B', 'B': 'A'}}"
      ]
     },
     "execution_count": 75,
     "metadata": {},
     "output_type": "execute_result"
    }
   ],
   "source": [
    "example.best_responses"
   ]
  },
  {
   "cell_type": "code",
   "execution_count": 76,
   "metadata": {},
   "outputs": [
    {
     "name": "stdout",
     "output_type": "stream",
     "text": [
      "('A', 'A')\n",
      "('A', 'B')\n",
      "('B', 'A')\n",
      "('B', 'B')\n"
     ]
    }
   ],
   "source": [
    "for outcome in example.payoff_map:\n",
    "    if outcome[0] == example.best_responses[]"
   ]
  },
  {
   "cell_type": "code",
   "execution_count": 65,
   "metadata": {},
   "outputs": [],
   "source": [
    "player_1 = Player('one', {'R', 'P', 'S'})\n",
    "player_2 = Player('two', {'R', 'P', 'S'})\n",
    "rps = Game(player_1, player_2)"
   ]
  },
  {
   "cell_type": "code",
   "execution_count": 66,
   "metadata": {},
   "outputs": [],
   "source": [
    "rps.set_payoff(('P', 'P'), (0,0))\n",
    "rps.set_payoff(('P', 'S'), (0,1))\n",
    "rps.set_payoff(('P', 'R'), (1,0))\n",
    "\n",
    "rps.set_payoff(('S', 'P'), (1,0))\n",
    "rps.set_payoff(('S', 'S'), (0,0))\n",
    "rps.set_payoff(('S', 'R'), (0,1))\n",
    "\n",
    "rps.set_payoff(('R', 'P'), (0,1))\n",
    "rps.set_payoff(('R', 'S'), (1,0))\n",
    "rps.set_payoff(('R', 'R'), (0,0))"
   ]
  },
  {
   "cell_type": "code",
   "execution_count": 67,
   "metadata": {},
   "outputs": [
    {
     "data": {
      "text/plain": [
       "{('P', 'P'): (0, 0),\n",
       " ('P', 'S'): (0, 1),\n",
       " ('P', 'R'): (1, 0),\n",
       " ('S', 'P'): (1, 0),\n",
       " ('S', 'S'): (0, 0),\n",
       " ('S', 'R'): (0, 1),\n",
       " ('R', 'P'): (0, 1),\n",
       " ('R', 'S'): (1, 0),\n",
       " ('R', 'R'): (0, 0)}"
      ]
     },
     "execution_count": 67,
     "metadata": {},
     "output_type": "execute_result"
    }
   ],
   "source": [
    "rps.payoff_map"
   ]
  },
  {
   "cell_type": "code",
   "execution_count": 69,
   "metadata": {},
   "outputs": [
    {
     "data": {
      "text/plain": [
       "{'one': {'P': 0, 'S': 0, 'R': 0}, 'two': {'P': 0, 'S': 0, 'R': 0}}"
      ]
     },
     "execution_count": 69,
     "metadata": {},
     "output_type": "execute_result"
    }
   ],
   "source": [
    "rps.best_responses"
   ]
  },
  {
   "cell_type": "code",
   "execution_count": 70,
   "metadata": {},
   "outputs": [
    {
     "data": {
      "text/plain": [
       "{'one': {'P': 'S', 'S': 'R', 'R': 'P'}, 'two': {'P': 'S', 'S': 'R', 'R': 'P'}}"
      ]
     },
     "execution_count": 70,
     "metadata": {},
     "output_type": "execute_result"
    }
   ],
   "source": [
    "rps.find_best_responses()\n",
    "rps.best_responses"
   ]
  },
  {
   "cell_type": "code",
   "execution_count": 62,
   "metadata": {},
   "outputs": [
    {
     "name": "stdout",
     "output_type": "stream",
     "text": [
      "P ('P', 'P') (0, 0) 0\n",
      "P ('S', 'P') (1, 0) 1\n",
      "P ('R', 'P') (0, 1) 0\n",
      "S ('P', 'S') (0, 1) 0\n",
      "S ('S', 'S') (0, 0) 0\n",
      "S ('R', 'S') (1, 0) 1\n",
      "R ('P', 'R') (1, 0) 1\n",
      "R ('S', 'R') (0, 1) 0\n",
      "R ('R', 'R') (0, 0) 0\n",
      "\n",
      "P ('P', 'P') (0, 0) 0\n",
      "P ('S', 'P') (1, 0) 1\n",
      "P ('R', 'P') (0, 1) 0\n",
      "S ('P', 'S') (0, 1) 0\n",
      "S ('S', 'S') (0, 0) 0\n",
      "S ('R', 'S') (1, 0) 1\n",
      "R ('P', 'R') (1, 0) 1\n",
      "R ('S', 'R') (0, 1) 0\n",
      "R ('R', 'R') (0, 0) 0\n"
     ]
    },
    {
     "data": {
      "text/plain": [
       "{'one': {'P': 'S', 'S': 'R', 'R': 'P'}, 'two': {'P': 'S', 'S': 'R', 'R': 'P'}}"
      ]
     },
     "execution_count": 62,
     "metadata": {},
     "output_type": "execute_result"
    }
   ],
   "source": [
    "possible_payoffs = {}\n",
    "for strategy in rps.player_two.strategy_set:\n",
    "    possible_payoffs[strategy] = {}\n",
    "    for outcome in rps.payoff_map:\n",
    "        if outcome[1] == strategy:\n",
    "            print(strategy, outcome, rps.payoff_map[outcome], rps.payoff_map[outcome][0])\n",
    "            possible_payoffs[strategy][outcome[0]] = rps.payoff_map[outcome][0]\n",
    "\n",
    "    rps.best_responses[rps.player_one.name][strategy] = max(possible_payoffs[strategy], key=possible_payoffs[strategy].get)\n",
    "    \n",
    "    \n",
    "print()\n",
    "    \n",
    "possible_payoffs = {}\n",
    "for strategy in rps.player_one.strategy_set:\n",
    "    possible_payoffs[strategy] = {}\n",
    "    for outcome in rps.payoff_map:\n",
    "        if outcome[1] == strategy:\n",
    "            print(strategy, outcome, rps.payoff_map[outcome], rps.payoff_map[outcome][0])\n",
    "            possible_payoffs[strategy][outcome[0]] = rps.payoff_map[outcome][0]\n",
    "\n",
    "    rps.best_responses[rps.player_two.name][strategy] = max(possible_payoffs[strategy], key=possible_payoffs[strategy].get)\n",
    "    \n",
    "rps.best_responses"
   ]
  },
  {
   "cell_type": "code",
   "execution_count": 53,
   "metadata": {},
   "outputs": [],
   "source": [
    "possible_payoffs = {}"
   ]
  },
  {
   "cell_type": "code",
   "execution_count": null,
   "metadata": {},
   "outputs": [],
   "source": []
  }
 ],
 "metadata": {
  "kernelspec": {
   "display_name": "Python 3",
   "language": "python",
   "name": "python3"
  },
  "language_info": {
   "codemirror_mode": {
    "name": "ipython",
    "version": 3
   },
   "file_extension": ".py",
   "mimetype": "text/x-python",
   "name": "python",
   "nbconvert_exporter": "python",
   "pygments_lexer": "ipython3",
   "version": "3.7.6"
  }
 },
 "nbformat": 4,
 "nbformat_minor": 4
}
