{
 "cells": [
  {
   "cell_type": "code",
   "execution_count": 1,
   "metadata": {},
   "outputs": [],
   "source": [
    "import numpy as np\n",
    "import itertools"
   ]
  },
  {
   "cell_type": "code",
   "execution_count": 2,
   "metadata": {},
   "outputs": [],
   "source": [
    "class Player:\n",
    "    def __init__(self, name, strategy_set):\n",
    "        self.name = name\n",
    "        self.strategy_set = strategy_set"
   ]
  },
  {
   "cell_type": "code",
   "execution_count": 16,
   "metadata": {},
   "outputs": [],
   "source": [
    "class Game:\n",
    "    def __init__(self, players):\n",
    "        self.players = players\n",
    "        self.possible_outcomes = list(itertools.product(*[player.strategy_set for player in self.players]))\n",
    "        self.payoff_map = {}\n",
    "        self.payoff_matrix = np.array\n",
    "        for outcome in self.possible_outcomes:\n",
    "            self.payoff_map[outcome] = (0,0)\n",
    "            \n",
    "        for player in self.players:\n",
    "            self.best_responses[player.name] = []\n",
    "    \n",
    "    def set_payoff(self, outcome, payoff):\n",
    "        self.payoff_map[outcome] = payoff"
   ]
  },
  {
   "cell_type": "code",
   "execution_count": 6,
   "metadata": {},
   "outputs": [
    {
     "data": {
      "text/plain": [
       "{('B', 'B'): (0, 0),\n",
       " ('B', 'S'): (0, 0),\n",
       " ('S', 'B'): (0, 0),\n",
       " ('S', 'S'): (0, 0)}"
      ]
     },
     "execution_count": 6,
     "metadata": {},
     "output_type": "execute_result"
    }
   ],
   "source": [
    "player_one = Player('one', {\"B\", \"S\"})\n",
    "player_two = Player('two', {\"B\", \"S\"})\n",
    "players = [player_one, player_two]\n",
    "\n",
    "battle_of_sexes = Game(players)\n",
    "battle_of_sexes.payoff_map"
   ]
  },
  {
   "cell_type": "code",
   "execution_count": 7,
   "metadata": {},
   "outputs": [
    {
     "data": {
      "text/plain": [
       "{('B', 'B'): (3, 2),\n",
       " ('B', 'S'): (0, 0),\n",
       " ('S', 'B'): (0, 0),\n",
       " ('S', 'S'): (2, 3)}"
      ]
     },
     "execution_count": 7,
     "metadata": {},
     "output_type": "execute_result"
    }
   ],
   "source": [
    "battle_of_sexes.set_payoff(('B', 'B'), (3, 2))\n",
    "battle_of_sexes.set_payoff(('S', 'B'), (0,0))\n",
    "battle_of_sexes.set_payoff(('B', 'S'), (0,0))\n",
    "battle_of_sexes.set_payoff(('S', 'S'), (2,3))\n",
    "battle_of_sexes.payoff_map"
   ]
  },
  {
   "cell_type": "code",
   "execution_count": 15,
   "metadata": {},
   "outputs": [
    {
     "data": {
      "text/plain": [
       "{'one': {'S': 0, 'B': 0}, 'two': {'S': 0, 'B': 0}}"
      ]
     },
     "execution_count": 15,
     "metadata": {},
     "output_type": "execute_result"
    }
   ],
   "source": [
    "for i, player in enumerate(battle_of_sexes.players):\n",
    "    for strategy in player.strategy_set:\n",
    "        battle_of_sexes.best_responses[player.name][strategy] = 0\n",
    "        \n",
    "    \n",
    "        \n",
    "\n",
    "battle_of_sexes.best_responses"
   ]
  },
  {
   "cell_type": "code",
   "execution_count": null,
   "metadata": {},
   "outputs": [],
   "source": []
  }
 ],
 "metadata": {
  "kernelspec": {
   "display_name": "Python 3",
   "language": "python",
   "name": "python3"
  },
  "language_info": {
   "codemirror_mode": {
    "name": "ipython",
    "version": 3
   },
   "file_extension": ".py",
   "mimetype": "text/x-python",
   "name": "python",
   "nbconvert_exporter": "python",
   "pygments_lexer": "ipython3",
   "version": "3.7.6"
  }
 },
 "nbformat": 4,
 "nbformat_minor": 4
}
