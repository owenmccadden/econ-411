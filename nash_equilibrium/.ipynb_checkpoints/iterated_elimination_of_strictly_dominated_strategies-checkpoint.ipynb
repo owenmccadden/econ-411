{
 "cells": [
  {
   "cell_type": "code",
   "execution_count": 44,
   "metadata": {},
   "outputs": [],
   "source": [
    "import numpy as np"
   ]
  },
  {
   "cell_type": "code",
   "execution_count": 85,
   "metadata": {},
   "outputs": [],
   "source": [
    "payoff = np.array([\n",
    "    [(13,3), (1,4), (7,3)],\n",
    "    [(4,1), (3,3), (6,2)],\n",
    "    [(-1,9), (2,8), (8,-1)]\n",
    "])"
   ]
  },
  {
   "cell_type": "code",
   "execution_count": 91,
   "metadata": {},
   "outputs": [
    {
     "name": "stdout",
     "output_type": "stream",
     "text": [
      "0 0 [13  3]\n",
      "0 1 [1 4]\n",
      "0 2 [7 3]\n",
      "1 0 [4 1]\n",
      "1 1 [3 3]\n",
      "1 2 [6 2]\n",
      "2 0 [-1  9]\n",
      "2 1 [2 8]\n",
      "2 2 [ 8 -1]\n"
     ]
    }
   ],
   "source": [
    "for i, row in enumerate(payoff):\n",
    "    for j, utility in enumerate(row):\n",
    "        print(i, j, utility)"
   ]
  },
  {
   "cell_type": "code",
   "execution_count": 73,
   "metadata": {},
   "outputs": [],
   "source": [
    "class PayoffMatrix:\n",
    "    def __init__(self, matrix):\n",
    "        self.matrix = matrix\n",
    "    \n",
    "    def delete_row_i(self, i):\n",
    "        self.matrix = np.delete(self.matrix, i, 0)\n",
    "        \n",
    "    def delete_col_i(self, i):\n",
    "        self.matrix = np.delete(self.matrix, i, 1)\n",
    "        \n",
    "    def is_row_strictly_dominated(self, i):\n",
    "        for i, row in enumerate(self.matrix):\n",
    "            for j, payoff in enumerate(row):\n",
    "                \n",
    "        return False\n",
    "    \n",
    "    def is_col_strictly_dominated(self, i):\n",
    "        \n",
    "        return False\n",
    "    \n",
    "    def iesds(self, matrix_copy):\n",
    "        if len(matrix_copy) == 1 and len(matrix_copy[0]) == 0:\n",
    "            return matrix_copy[0][0]\n",
    "        "
   ]
  }
 ],
 "metadata": {
  "kernelspec": {
   "display_name": "Python 3",
   "language": "python",
   "name": "python3"
  },
  "language_info": {
   "codemirror_mode": {
    "name": "ipython",
    "version": 3
   },
   "file_extension": ".py",
   "mimetype": "text/x-python",
   "name": "python",
   "nbconvert_exporter": "python",
   "pygments_lexer": "ipython3",
   "version": "3.7.6"
  }
 },
 "nbformat": 4,
 "nbformat_minor": 4
}
